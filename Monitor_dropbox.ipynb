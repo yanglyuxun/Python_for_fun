{
 "cells": [
  {
   "cell_type": "code",
   "execution_count": null,
   "metadata": {},
   "outputs": [
    {
     "name": "stdout",
     "output_type": "stream",
     "text": [
      "Up to date                                                                                                                                                                         "
     ]
    }
   ],
   "source": [
    "import os\n",
    "import time\n",
    "\n",
    "maxlen = 0\n",
    "while True:\n",
    "    with os.popen(\"dropbox status\") as f:\n",
    "        txt = '\\r'+f.read()[:-1].replace('\\n',';  ')\n",
    "    maxlen = max(maxlen, len(txt))\n",
    "    print(txt, end=' ' * (maxlen - len(txt)))\n",
    "    time.sleep(1)"
   ]
  }
 ],
 "metadata": {
  "kernelspec": {
   "display_name": "Python 3",
   "language": "python",
   "name": "python3"
  },
  "language_info": {
   "codemirror_mode": {
    "name": "ipython",
    "version": 3
   },
   "file_extension": ".py",
   "mimetype": "text/x-python",
   "name": "python",
   "nbconvert_exporter": "python",
   "pygments_lexer": "ipython3",
   "version": "3.6.1"
  }
 },
 "nbformat": 4,
 "nbformat_minor": 2
}
