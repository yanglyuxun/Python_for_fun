{
 "cells": [
  {
   "cell_type": "code",
   "execution_count": 61,
   "metadata": {},
   "outputs": [],
   "source": [
    "import urllib\n",
    "import pandas as pd\n",
    "from bs4 import BeautifulSoup  "
   ]
  },
  {
   "cell_type": "code",
   "execution_count": 62,
   "metadata": {},
   "outputs": [],
   "source": [
    "url = 'https://subsmovies.me/watch?tv_serie=0436992' # Doctor Who\n",
    "domain = 'https://subsmovies.me/'\n",
    "\n",
    "headers = {'User-Agent':'Mozilla/5.0 (Windows NT 6.1; WOW64; rv:23.0) Gecko/20100101 Firefox/23.0'} \n",
    "req = urllib.request.Request(url=url, headers=headers)  \n",
    "index_html = urllib.request.urlopen(req).read()  \n",
    "\n",
    "soup = BeautifulSoup(index_html,\"lxml\")  "
   ]
  },
  {
   "cell_type": "code",
   "execution_count": 63,
   "metadata": {},
   "outputs": [
    {
     "data": {
      "text/html": [
       "<div>\n",
       "<style scoped>\n",
       "    .dataframe tbody tr th:only-of-type {\n",
       "        vertical-align: middle;\n",
       "    }\n",
       "\n",
       "    .dataframe tbody tr th {\n",
       "        vertical-align: top;\n",
       "    }\n",
       "\n",
       "    .dataframe thead th {\n",
       "        text-align: right;\n",
       "    }\n",
       "</style>\n",
       "<table border=\"1\" class=\"dataframe\">\n",
       "  <thead>\n",
       "    <tr style=\"text-align: right;\">\n",
       "      <th></th>\n",
       "      <th>s</th>\n",
       "      <th>e</th>\n",
       "      <th>title</th>\n",
       "      <th>url</th>\n",
       "    </tr>\n",
       "  </thead>\n",
       "  <tbody>\n",
       "    <tr>\n",
       "      <th>0</th>\n",
       "      <td>1</td>\n",
       "      <td>1</td>\n",
       "      <td>Rose</td>\n",
       "      <td>https://subsmovies.me/watch?movie=0562992s</td>\n",
       "    </tr>\n",
       "    <tr>\n",
       "      <th>1</th>\n",
       "      <td>1</td>\n",
       "      <td>2</td>\n",
       "      <td>The End of the World</td>\n",
       "      <td>https://subsmovies.me/watch?movie=0562997s</td>\n",
       "    </tr>\n",
       "    <tr>\n",
       "      <th>2</th>\n",
       "      <td>1</td>\n",
       "      <td>3</td>\n",
       "      <td>The Unquiet Dead</td>\n",
       "      <td>https://subsmovies.me/watch?movie=0563001s</td>\n",
       "    </tr>\n",
       "    <tr>\n",
       "      <th>3</th>\n",
       "      <td>1</td>\n",
       "      <td>4</td>\n",
       "      <td>Aliens of London</td>\n",
       "      <td>https://subsmovies.me/watch?movie=0562985s</td>\n",
       "    </tr>\n",
       "    <tr>\n",
       "      <th>4</th>\n",
       "      <td>1</td>\n",
       "      <td>5</td>\n",
       "      <td>World War Three</td>\n",
       "      <td>https://subsmovies.me/watch?movie=0563003s</td>\n",
       "    </tr>\n",
       "  </tbody>\n",
       "</table>\n",
       "</div>"
      ],
      "text/plain": [
       "   s  e                 title                                         url\n",
       "0  1  1                  Rose  https://subsmovies.me/watch?movie=0562992s\n",
       "1  1  2  The End of the World  https://subsmovies.me/watch?movie=0562997s\n",
       "2  1  3      The Unquiet Dead  https://subsmovies.me/watch?movie=0563001s\n",
       "3  1  4      Aliens of London  https://subsmovies.me/watch?movie=0562985s\n",
       "4  1  5       World War Three  https://subsmovies.me/watch?movie=0563003s"
      ]
     },
     "execution_count": 63,
     "metadata": {},
     "output_type": "execute_result"
    }
   ],
   "source": [
    "data = pd.DataFrame(columns=['s','e','title','url'])\n",
    "\n",
    "seasons = soup.findAll('section',{'class':['specific_movie_other_source']})\n",
    "for s in seasons:\n",
    "    s_title = s.find('div',{'class':['movie_links_help']})\n",
    "    if not s_title: continue\n",
    "    season_title = s_title.text.strip()\n",
    "    season_n = int(season_title.split()[-1])\n",
    "    episodes = s.findAll('a',{'class':['album_holder']})\n",
    "    for e in episodes:\n",
    "        episode_title = e.text.strip()\n",
    "        episode_title, episode_n = episode_title.split('(')\n",
    "        episode_title = episode_title.strip()\n",
    "        episode_n = int(episode_n.replace(')','').split()[-1])\n",
    "        episode_url = domain + e.get('href')\n",
    "        data = data.append({'s':season_n,'e':episode_n,\n",
    "                            'title':episode_title,'url':episode_url},ignore_index=True)\n",
    "\n",
    "data.head()"
   ]
  },
  {
   "cell_type": "code",
   "execution_count": 64,
   "metadata": {},
   "outputs": [],
   "source": [
    "data.to_excel('data.xlsx')"
   ]
  }
 ],
 "metadata": {
  "kernelspec": {
   "display_name": "Python 3",
   "language": "python",
   "name": "python3"
  },
  "language_info": {
   "codemirror_mode": {
    "name": "ipython",
    "version": 3
   },
   "file_extension": ".py",
   "mimetype": "text/x-python",
   "name": "python",
   "nbconvert_exporter": "python",
   "pygments_lexer": "ipython3",
   "version": "3.6.4"
  }
 },
 "nbformat": 4,
 "nbformat_minor": 2
}
