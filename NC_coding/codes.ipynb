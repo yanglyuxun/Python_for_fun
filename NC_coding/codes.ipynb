{
 "cells": [
  {
   "cell_type": "code",
   "execution_count": 2,
   "metadata": {},
   "outputs": [],
   "source": [
    "import pandas as pd\n",
    "import requests"
   ]
  },
  {
   "cell_type": "code",
   "execution_count": 15,
   "metadata": {},
   "outputs": [
    {
     "name": "stdout",
     "output_type": "stream",
     "text": [
      "b'<!DOCTYPE html>\\n<!-- html version 1999 -->\\n\\n\\n\\n\\n<html>\\n<head>\\n<meta charset=\"utf-8\">\\n<meta http-equiv=\"X-UA-Compatible\" content=\"IE=edge,chrome=1\">\\n<title>2017\\xe6\\xa0\\xa1\\xe6\\x8b\\x9b\\xe7\\x9c\\x9f\\xe9\\xa2\\x98\\xe5\\x9c\\xa8\\xe7\\xba\\xbf\\xe7\\xbc\\x96\\xe7\\xa8\\x8b_\\xe7\\x89\\x9b\\xe5\\xae\\xa2\\xe7\\xbd\\x91</title>\\n<meta name=\"description\"\\ncontent=\"\\xe7\\xb2\\xbe\\xe9\\x80\\x89\\xe8\\xb0\\xb7\\xe6\\xad\\x8c\\xe3\\x80\\x81\\xe5\\xbe\\xae\\xe8\\xbd\\xaf\\xe7\\xad\\x89\\xe7\\x9f\\xa5\\xe5\\x90\\x8dIT\\xe4\\xbc\\x81\\xe4\\xb8\\x9a\\xe7\\x9a\\x8450\\xe4\\xbd\\x99\\xe9\\x81\\x93\\xe5\\x85\\xb8\\xe5\\x9e\\x8b\\xe9\\x9d\\xa2\\xe8\\xaf\\x95\\xe9\\xa2\\x98\\xef\\xbc\\x8c\\xe4\\xbb\\x8e\\xe5\\x9f\\xba\\xe7\\xa1\\x80\\xe7\\x9f\\xa5\\xe8\\xaf\\x86\\xe3\\x80\\x81\\xe4\\xbb\\xa3\\xe7\\xa0\\x81\\xe8\\xb4\\xa8\\xe9\\x87\\x8f\\xe3\\x80\\x81\\xe8\\xa7\\xa3\\xe9\\xa2\\x98\\xe6\\x80\\x9d\\xe8\\xb7\\xaf\\xe3\\x80\\x81\\xe4\\xbc\\x98\\xe5\\x8c\\x96\\xe6\\x95\\x88\\xe7\\x8e\\x87\\xe5\\x92\\x8c\\xe7\\xbb\\xbc\\xe5\\x90\\x88\\xe8\\x83\\xbd\\xe5\\x8a\\x9b\\xe4\\xba\\x94\\xe4\\xb8\\xaa\\xe6\\x96\\xb9\\xe9\\x9d\\xa2\\xe7\\xb3\\xbb\\xe7\\xbb\\x9f\\xe6\\x95\\xb4\\xe7\\x90\\x86\\xe4\\xba\\x86\\xe5\\xbd\\xb1\\xe5\\x93\\x8d\\xe9\\x9d\\xa2\\xe8\\xaf\\x95\\xe7\\x9a\\x845\\xe4\\xb8\\xaa\\xe8\\xa6\\x81\\xe7\\x82\\xb9\\xe3\\x80\\x82\">\\n<meta name=\"keywords\" content=\"\\xe7\\x89\\x9b\\xe5\\xae\\xa2\\xe7\\xbd\\x91,\\xe8\\xae\\xa1\\xe7\\xae\\x97\\xe6\\x9c\\xba\\xe7\\xac\\x94\\xe8\\xaf\\x95,\\xe8\\xae\\xa1\\xe7\\xae\\x97\\xe6\\x9c\\xba\\xe9\\x9d\\xa2\\xe8\\xaf\\x95,IT\\xe7\\xac\\x94\\xe8\\xaf\\x95,\\xe7\\xac\\x94\\xe8\\xaf\\x95\\xe9\\xa2\\x98\\xe5\\xba\\x93,\\xe7\\xac\\x94\\xe8\\xaf\\x95\\xe7\\xbb\\x83\\xe4\\xb9\\xa0,IT\\xe9\\x9d\\xa2\\xe8\\xaf\\x95,\\xe5\\x9c\\xa8\\xe7\\xba\\xbf\\xe7\\xbc\\x96\\xe7\\xa8\\x8b,\\xe7\\xbc\\x96\\xe7\\xa8\\x8b\\xe5\\xad\\xa6\\xe4\\xb9\\xa0,\\xe7\\x89\\x9b\\xe5\\xae\\xa2\\xe7\\xbd\\x91\">\\n<link rel=\"stylesheet\" href=\"https://static.nowcoder.com/nc/fontcustom/release/ncfontcustom.css?t=1.2.973\">\\n<link rel=\"stylesheet\" href=\"//static.nowcoder.com/nowcoder/1.2.973/stylesheets/styles/topicPage/topic-page.css\">\\n</head>\\n<body>\\n<div class=\"nk-container    \">\\n<div class=\"nowcoder-header\">\\n<div class=\"header-main clearfix\">\\n<a class=\"nowcoder-logo\" href=\"/\" title=\"\\xe7\\x89\\x9b\\xe5\\xae\\xa2\\xe7\\xbd\\x91\"></a>\\n<ul class=\"nowcoder-navbar\">\\n<li>\\n<a href=\"/\">\\xe9\\xa6\\x96\\xe9\\xa1\\xb5</a>\\n</li>\\n<li class=\"active\">\\n<a href=\"/contestRoom\">\\xe9\\xa2\\x98\\xe5\\xba\\x93</a>\\n<ul class=\"sub-nav\">\\n<li><a href=\"/contestRoom\">\\xe5\\x85\\xac\\xe5\\x8f\\xb8\\xe7\\x9c\\x9f\\xe9\\xa2\\x98</a></li>\\n<li><a href=\"/intelligentTest\">\\xe4\\xb8\\x93\\xe9\\xa1\\xb9\\xe7\\xbb\\x83\\xe4\\xb9\\xa0</a></li>\\n<li><a href=\"/activity/oj\">\\xe5\\x9c\\xa8\\xe7\\xba\\xbf\\xe7\\xbc\\x96\\xe7\\xa8\\x8b</a></li>\\n<li><a href=\"/kaoyan\">\\xe8\\x80\\x83\\xe7\\xa0\\x94\\xe7\\x9c\\x9f\\xe9\\xa2\\x98</a></li>\\n<li><a href=\"/finalexam\">\\xe6\\x9c\\x9f\\xe6\\x9c\\xab\\xe8\\x80\\x83\\xe9\\xa2\\x98</a></li>\\n<li><a href=\"/activity/topics\">\\xe7\\xb2\\xbe\\xe5\\x8d\\x8e\\xe4\\xb8\\x93\\xe9\\xa2\\x98</a></li>\\n<li><a href=\"/questionCenter\">\\xe8\\xaf\\x95\\xe9\\xa2\\x98\\xe5\\xb9\\xbf\\xe5\\x9c\\xba</a></li>\\n</ul>\\n</li>\\n<li>\\n<a href=\"/courses\">\\xe8\\xaf\\xbe\\xe7\\xa8\\x8b</a>\\n</li>\\n<li>\\n<span class=\"ico-nav-new\"></span>\\n<a href=\"/recommend\">\\xe6\\xb1\\x82\\xe8\\x81\\x8c</a>\\n</li>\\n<li>\\n<a href=\"/discuss\">\\xe8\\xae\\xa8\\xe8\\xae\\xba\\xe5\\x8c\\xba</a>\\n</li>\\n<li>\\n<a href=\"/acm/contest/vip-index\">\\xe5\\x8f\\x91\\xe7\\x8e\\xb0</a>\\n<ul class=\"sub-nav\">\\n<li><a href=\"/acm/contest/vip-index\">\\xe7\\xab\\x9e\\xe8\\xb5\\x9b</a></li>\\n<li><a href=\"/show-offer/index\">Offer\\xe7\\xa5\\x9e\\xe5\\x99\\xa8</a></li>\\n<li><a href=\"/ranking\">\\xe6\\x8e\\x92\\xe8\\xa1\\x8c\\xe6\\xa6\\x9c</a></li>\\n</ul>\\n</li>\\n</ul>\\n<div class=\"nav-account\">\\n<a href=\"/login\" class=\"nav-account-login\" id=\"nav-login\">\\xe7\\x99\\xbb\\xe5\\xbd\\x95</a>/\\n<a href=\"/register\" class=\"nav-account-reg\" data-permalink=\"\">\\xe6\\xb3\\xa8\\xe5\\x86\\x8c</a>\\n</div>\\n<ul class=\"nowcoder-navbar nowcoder-other-nav\">\\n<li class=\"nav-search\">\\n<a href=\"javascript:void(0);\" class=\"icon-search js-search-btn\">\\xe6\\x90\\x9c\\xe7\\xb4\\xa2</a>\\n<div class=\"newnav-search-wrap\">\\n<div class=\"newnav-search-cont\">\\n<form method=\"get\" action=\"/search\">\\n<input class=\"nav-search-txt\" name=\"query\" type=\"text\">\\n<input type=\"hidden\" name=\"type\" value=\"all\"/>\\n<input type=\"submit\" class=\"nk-invisible\"/>\\n<a href=\"javascript:void(0);\" class=\"icon-search-colse  js-close-search-btn\"></a>\\n</form>\\n</div>\\n</div\\n</li>\\n<li>\\n<a href=\"/app\" class=\"icon-mobile-phone\">APP</a>\\n</li>\\n<li>\\n<a href=\"http://hr.nowcoder.com\" class=\"icon-briefcase\" target=\"_blank\">\\xe4\\xbc\\x81\\xe4\\xb8\\x9a\\xe7\\x89\\x88</a>\\n</li>\\n</ul>\\n</div>\\n</div>\\n<div class=\"topic-banner-box\"  style=\"background-color: #242a2a \">\\n<div class=\"topic-banner\"   style=\"background: url(https://uploadfiles.nowcoder.net/images/20170807/59_1502077267686_81978ABB8B6C4300A579225B7182E8F3) no-repeat \" >\\n</div>\\n</div>\\n<div class=\"nk-main with-banner-page clearfix\">\\n<div class=\"crumbs-path\">\\n<a href=\"/\">\\xe9\\xa6\\x96\\xe9\\xa1\\xb5</a>\\n<span>&gt;</span>\\n<a href=\"http://www.nowcoder.com/activity/oj\">\\xe5\\x9c\\xa8\\xe7\\xba\\xbf\\xe7\\xbc\\x96\\xe7\\xa8\\x8b</a>\\n<span>&gt;</span>\\n<span class=\"crumbs-end\">2017\\xe6\\xa0\\xa1\\xe6\\x8b\\x9b\\xe7\\x9c\\x9f\\xe9\\xa2\\x98</span>\\n</div>\\n<!--\\xe4\\xb8\\xbb\\xe4\\xbd\\x93\\xe5\\x86\\x85\\xe5\\xae\\xb9-->\\n<div class=\"nk-content\">\\n<div class=\"module-box\">\\n<div class=\"module-body offer-body\">\\n<div class=\"search-input-wrap\">\\n<label for=\"jsSearchIpt\" class=\"ico-search\"></label>\\n<input id=\"jsSearchIpt\" type=\"text\" placeholder=\"\\xe8\\xbe\\x93\\xe5\\x85\\xa5\\xe9\\xa2\\x98\\xe7\\x9b\\xae\\xe5\\x8f\\xb7\\xe6\\x88\\x96\\xe9\\xa2\\x98\\xe7\\x9b\\xae\\xe5\\x90\\x8d\\xe7\\xa7\\xb0\\xe6\\x90\\x9c\\xe7\\xb4\\xa2\">\\n</div>\\n<table>\\n<tbody>\\n<tr>\\n<th width=\"160\">\\xe8\\x80\\x83\\xe7\\x82\\xb9\\n<div class=\"rank-oprt\" data-type=\"knowledgePoint\">\\n<a href=\"javascript:void(0);\" class=\"rank-up\" title=\"\\xe5\\x8d\\x87\\xe5\\xba\\x8f\"></a>\\n<a href=\"javascript:void(0);\" class=\"rank-down\" title=\"\\xe9\\x99\\x8d\\xe5\\xba\\x8f\"></a>\\n</div>\\n</th>\\n<th width=\"300\">\\xe9\\xa2\\x98\\xe7\\x9b\\xae</th>\\n<th width=\"100\">\\xe7\\x83\\xad\\xe5\\xba\\xa6\\xe6\\x8c\\x87\\xe6\\x95\\xb0\\n<div class=\"rank-oprt\" data-type=\"submissionCount\">\\n<a href=\"javascript:void(0);\" class=\"rank-up\" title=\"\\xe5\\x8d\\x87\\xe5\\xba\\x8f\"></a>\\n<a href=\"javascript:void(0);\" class=\"rank-down\" title=\"\\xe9\\x99\\x8d\\xe5\\xba\\x8f\"></a>\\n</div>\\n</th>\\n<th width=\"80\">\\xe9\\x80\\x9a\\xe8\\xbf\\x87\\xe7\\x8e\\x87\\n<div class=\"rank-oprt\" data-type=\"acceptRate\">\\n<a href=\"javascript:void(0);\" class=\"rank-up\" title=\"\\xe5\\x8d\\x87\\xe5\\xba\\x8f\"></a>\\n<a href=\"javascript:void(0);\" class=\"rank-down\" title=\"\\xe9\\x99\\x8d\\xe5\\xba\\x8f\"></a>\\n</div>\\n</th>\\n</tr>\\n<tr>\\n<td class=\"offer-pot txt-left\">\\n<i class=\"icon-spot-gray\"></i>\\n\\xe7\\xbd\\x91\\xe6\\x98\\x93\\n</td>\\n<td class=\"txt-left\">\\n<a href=\"/practice/661c49118ca241909add3a11c96408c8?tpId=85&tqId=29830&tPage=1&rp=1&ru=/ta/2017test&qru=/ta/2017test/question-ranking\">\\n\\xe5\\x90\\x88\\xe5\\x94\\xb1\\xe5\\x9b\\xa2\\n</a>\\n</td>\\n<td>6951</td>\\n<td>14.44%</td>\\n</tr>\\n<tr>\\n<td class=\"offer-pot txt-left\">\\n<i class=\"icon-spot-gray\"></i>\\n\\xe7\\xbd\\x91\\xe6\\x98\\x93\\n</td>\\n<td class=\"txt-left\">\\n<a href=\"/practice/0385945b7d834a99bc0010e67f892e38?tpId=85&tqId=29831&tPage=1&rp=1&ru=/ta/2017test&qru=/ta/2017test/question-ranking\">\\n\\xe5\\x9c\\xb0\\xe7\\x89\\xa2\\xe9\\x80\\x83\\xe8\\x84\\xb1\\n</a>\\n</td>\\n<td>1833</td>\\n<td>18.29%</td>\\n</tr>\\n<tr>\\n<td class=\"offer-pot txt-left\">\\n<i class=\"icon-spot-gray\"></i>\\n\\xe7\\xbd\\x91\\xe6\\x98\\x93\\n</td>\\n<td class=\"txt-left\">\\n<a href=\"/practice/ca5c9ba9ebac4fd5ae9ba46114b0f476?tpId=85&tqId=29832&tPage=1&rp=1&ru=/ta/2017test&qru=/ta/2017test/question-ranking\">\\n\\xe4\\xb8\\x8b\\xe5\\x8e\\xa8\\xe6\\x88\\xbf\\n</a>\\n</td>\\n<td>6143</td>\\n<td>33.73%</td>\\n</tr>\\n<tr>\\n<td class=\"offer-pot txt-left\">\\n<i class=\"icon-spot-gray\"></i>\\n\\xe7\\xbd\\x91\\xe6\\x98\\x93\\n</td>\\n<td class=\"txt-left\">\\n<a href=\"/practice/fe30a13b5fb84b339cb6cb3f70dca699?tpId=85&tqId=29833&tPage=1&rp=1&ru=/ta/2017test&qru=/ta/2017test/question-ranking\">\\n\\xe5\\x88\\x86\\xe7\\x94\\xb0\\xe5\\x9c\\xb0\\n</a>\\n</td>\\n<td>1410</td>\\n<td>14.84%</td>\\n</tr>\\n<tr>\\n<td class=\"offer-pot txt-left\">\\n<i class=\"icon-spot-gray\"></i>\\n\\xe7\\xbd\\x91\\xe6\\x98\\x93\\n</td>\\n<td class=\"txt-left\">\\n<a href=\"/practice/a174820de48147d489f64103af152709?tpId=85&tqId=29834&tPage=1&rp=1&ru=/ta/2017test&qru=/ta/2017test/question-ranking\">\\n\\xe5\\x88\\x86\\xe8\\x8b\\xb9\\xe6\\x9e\\x9c\\n</a>\\n</td>\\n<td>4587</td>\\n<td>24.48%</td>\\n</tr>\\n<tr>\\n<td class=\"offer-pot txt-left\">\\n<i class=\"icon-spot-gray\"></i>\\n\\xe7\\xbd\\x91\\xe6\\x98\\x93\\n</td>\\n<td class=\"txt-left\">\\n<a href=\"/practice/53e4c208b8cf497086ecd65ef45349bb?tpId=85&tqId=29835&tPage=1&rp=1&ru=/ta/2017test&qru=/ta/2017test/question-ranking\">\\n\\xe6\\x98\\x9f\\xe9\\x99\\x85\\xe7\\xa9\\xbf\\xe8\\xb6\\x8a\\n</a>\\n</td>\\n<td>3952</td>\\n<td>21.39%</td>\\n</tr>\\n<tr>\\n<td class=\"offer-pot txt-left\">\\n<i class=\"icon-spot-gray\"></i>\\n\\xe7\\xbd\\x91\\xe6\\x98\\x93\\n</td>\\n<td class=\"txt-left\">\\n<a href=\"/practice/74475ee28edb497c8aa4f8c370f08c30?tpId=85&tqId=29836&tPage=1&rp=1&ru=/ta/2017test&qru=/ta/2017test/question-ranking\">\\n\\xe8\\x97\\x8f\\xe5\\xae\\x9d\\xe5\\x9b\\xbe\\n</a>\\n</td>\\n<td>4164</td>\\n<td>29.71%</td>\\n</tr>\\n<tr>\\n<td class=\"offer-pot txt-left\">\\n<i class=\"icon-spot-gray\"></i>\\n\\xe7\\xbd\\x91\\xe6\\x98\\x93\\n</td>\\n<td class=\"txt-left\">\\n<a href=\"/practice/b698e67a2f5b450a824527e82ed7495d?tpId=85&tqId=29837&tPage=1&rp=1&ru=/ta/2017test&qru=/ta/2017test/question-ranking\">\\n\\xe6\\x95\\xb0\\xe5\\x88\\x97\\xe8\\xbf\\x98\\xe5\\x8e\\x9f\\n</a>\\n</td>\\n<td>1498</td>\\n<td>28.96%</td>\\n</tr>\\n<tr>\\n<td class=\"offer-pot txt-left\">\\n<i class=\"icon-spot-gray\"></i>\\n\\xe7\\xbd\\x91\\xe6\\x98\\x93\\n</td>\\n<td class=\"txt-left\">\\n<a href=\"/practice/5b1116081ee549f882970eca84b4785a?tpId=85&tqId=29838&tPage=1&rp=1&ru=/ta/2017test&qru=/ta/2017test/question-ranking\">\\n\\xe6\\xb7\\xb7\\xe5\\x90\\x88\\xe9\\xa2\\x9c\\xe6\\x96\\x99\\n</a>\\n</td>\\n<td>2011</td>\\n<td>16.27%</td>\\n</tr>\\n<tr>\\n<td class=\"offer-pot txt-left\">\\n<i class=\"icon-spot-gray\"></i>\\n\\xe7\\xbd\\x91\\xe6\\x98\\x93\\n</td>\\n<td class=\"txt-left\">\\n<a href=\"/practice/a5190a7c3ec045ce9273beebdfe029ee?tpId=85&tqId=29839&tPage=1&rp=1&ru=/ta/2017test&qru=/ta/2017test/question-ranking\">\\n\\xe5\\xb9\\xb8\\xe8\\xbf\\x90\\xe7\\x9a\\x84\\xe8\\xa2\\x8b\\xe5\\xad\\x90\\n</a>\\n</td>\\n<td>2237</td>\\n<td>15.74%</td>\\n</tr>\\n<tr>\\n<td class=\"offer-pot txt-left\">\\n<i class=\"icon-spot-gray\"></i>\\n\\xe7\\xbd\\x91\\xe6\\x98\\x93\\n</td>\\n<td class=\"txt-left\">\\n<a href=\"/practice/1183548cd48446b38da501e58d5944eb?tpId=85&tqId=29840&tPage=1&rp=1&ru=/ta/2017test&qru=/ta/2017test/question-ranking\">\\n\\xe4\\xb8\\x8d\\xe8\\xa6\\x81\\xe4\\xba\\x8c\\n</a>\\n</td>\\n<td>2383</td>\\n<td>30.91%</td>\\n</tr>\\n<tr>\\n<td class=\"offer-pot txt-left\">\\n<i class=\"icon-spot-gray\"></i>\\n\\xe7\\xbd\\x91\\xe6\\x98\\x93\\n</td>\\n<td class=\"txt-left\">\\n<a href=\"/practice/cd763d8541fc4243b8d3b967bb6d6b6a?tpId=85&tqId=29841&tPage=1&rp=1&ru=/ta/2017test&qru=/ta/2017test/question-ranking\">\\n\\xe8\\xa7\\xa3\\xe6\\x95\\x91\\xe5\\xb0\\x8f\\xe6\\x98\\x93\\n</a>\\n</td>\\n<td>3765</td>\\n<td>36.53%</td>\\n</tr>\\n<tr>\\n<td class=\"offer-pot txt-left\">\\n<i class=\"icon-spot-gray\"></i>\\n\\xe7\\xbd\\x91\\xe6\\x98\\x93\\n</td>\\n<td class=\"txt-left\">\\n<a href=\"/practice/9d1559511b3849deaa71b576fa7009dc?tpId=85&tqId=29842&tPage=1&rp=1&ru=/ta/2017test&qru=/ta/2017test/question-ranking\">\\n\\xe7\\xbb\\x9f\\xe8\\xae\\xa1\\xe5\\x9b\\x9e\\xe6\\x96\\x87\\n</a>\\n</td>\\n<td>3385</td>\\n<td>30.99%</td>\\n</tr>\\n<tr>\\n<td class=\"offer-pot txt-left\">\\n<i class=\"icon-spot-gray\"></i>\\n\\xe7\\xbd\\x91\\xe6\\x98\\x93\\n</td>\\n<td class=\"txt-left\">\\n<a href=\"/practice/5ee8df898312465a95553d82ad8898c3?tpId=85&tqId=29843&tPage=1&rp=1&ru=/ta/2017test&qru=/ta/2017test/question-ranking\">\\n\\xe9\\xa5\\xa5\\xe9\\xa5\\xbf\\xe7\\x9a\\x84\\xe5\\xb0\\x8f\\xe6\\x98\\x93\\n</a>\\n</td>\\n<td>1618</td>\\n<td>16.64%</td>\\n</tr>\\n<tr>\\n<td class=\"offer-pot txt-left\">\\n<i class=\"icon-spot-gray\"></i>\\n\\xe7\\xbd\\x91\\xe6\\x98\\x93\\n</td>\\n<td class=\"txt-left\">\\n<a href=\"/practice/839f681bf36c486fbcc5fcb977ffe432?tpId=85&tqId=29844&tPage=1&rp=1&ru=/ta/2017test&qru=/ta/2017test/question-ranking\">\\n\\xe4\\xb8\\xa4\\xe7\\xa7\\x8d\\xe6\\x8e\\x92\\xe5\\xba\\x8f\\xe6\\x96\\xb9\\xe6\\xb3\\x95\\n</a>\\n</td>\\n<td>2742</td>\\n<td>26.05%</td>\\n</tr>\\n<tr>\\n<td class=\"offer-pot txt-left\">\\n<i class=\"icon-spot-gray\"></i>\\n\\xe7\\xbd\\x91\\xe6\\x98\\x93\\n</td>\\n<td class=\"txt-left\">\\n<a href=\"/practice/ca7b8af83e2f4ec1af2f23d6733223b5?tpId=85&tqId=29845&tPage=1&rp=1&ru=/ta/2017test&qru=/ta/2017test/question-ranking\">\\n\\xe5\\xb0\\x8f\\xe6\\x98\\x93\\xe5\\x96\\x9c\\xe6\\xac\\xa2\\xe7\\x9a\\x84\\xe5\\x8d\\x95\\xe8\\xaf\\x8d\\n</a>\\n</td>\\n<td>2101</td>\\n<td>32.77%</td>\\n</tr>\\n<tr>\\n<td class=\"offer-pot txt-left\">\\n<i class=\"icon-spot-gray\"></i>\\n\\xe7\\xbd\\x91\\xe6\\x98\\x93\\n</td>\\n<td class=\"txt-left\">\\n<a href=\"/practice/18ecd0ecf5ef4fe9ba3f17f8d00d2d66?tpId=85&tqId=29846&tPage=1&rp=1&ru=/ta/2017test&qru=/ta/2017test/question-ranking\">\\nFibonacci\\xe6\\x95\\xb0\\xe5\\x88\\x97\\n</a>\\n</td>\\n<td>4124</td>\\n<td>35.72%</td>\\n</tr>\\n<tr>\\n<td class=\"offer-pot txt-left\">\\n<i class=\"icon-spot-gray\"></i>\\n\\xe7\\xbd\\x91\\xe6\\x98\\x93\\n</td>\\n<td class=\"txt-left\">\\n<a href=\"/practice/876e3c5fcfa5469f8376370d5de87c06?tpId=85&tqId=29847&tPage=1&rp=1&ru=/ta/2017test&qru=/ta/2017test/question-ranking\">\\n\\xe6\\x95\\xb0\\xe5\\xad\\x97\\xe6\\xb8\\xb8\\xe6\\x88\\x8f\\n</a>\\n</td>\\n<td>2371</td>\\n<td>25.17%</td>\\n</tr>\\n<tr>\\n<td class=\"offer-pot txt-left\">\\n<i class=\"icon-spot-gray\"></i>\\n\\xe7\\xbd\\x91\\xe6\\x98\\x93\\xe6\\x9c\\x89\\xe9\\x81\\x93\\n</td>\\n<td class=\"txt-left\">\\n<a href=\"/practice/5a0a2c7e431e4fbbbb1ff32ac6e8dfa0?tpId=85&tqId=29848&tPage=1&rp=1&ru=/ta/2017test&qru=/ta/2017test/question-ranking\">\\n\\xe6\\xb4\\x97\\xe7\\x89\\x8c\\n</a>\\n</td>\\n<td>7047</td>\\n<td>17.69%</td>\\n</tr>\\n<tr>\\n<td class=\"offer-pot txt-left\">\\n<i class=\"icon-spot-gray\"></i>\\n\\xe7\\xbd\\x91\\xe6\\x98\\x93\\xe6\\x9c\\x89\\xe9\\x81\\x93\\n</td>\\n<td class=\"txt-left\">\\n<a href=\"/practice/657d09e2b3704574814089ba8566d98d?tpId=85&tqId=29849&tPage=1&rp=1&ru=/ta/2017test&qru=/ta/2017test/question-ranking\">\\n\\xe6\\x9e\\x84\\xe9\\x80\\xa0\\xe9\\x98\\x9f\\xe5\\x88\\x97\\n</a>\\n</td>\\n<td>4146</td>\\n<td>28.23%</td>\\n</tr>\\n</tbody>\\n</table>\\n<div class=\"pagination\">\\n<ul data-total=\"4\">\\n<li class=\"txt-pager disabled js-first-pager\"><a data-page=\"1\" href=\"javascript:void(0)\">\\xe9\\xa6\\x96\\xe9\\xa1\\xb5</a></li>\\n<li class=\"txt-pager disabled js-pre-pager\"><a data-page=\"1\" href=\"javascript:void(0)\">\\xe4\\xb8\\x8a\\xe4\\xb8\\x80\\xe9\\xa1\\xb5</a></li>\\n<li class=\"active js-1-pager\"><a href=\"javascript:void(0)\" data-page=\"1\">1</a></li>\\n<li class=\"js-2-pager\"><a href=\"?query=&asc=true&order=&page=2\" data-page=\"2\">2</a></li>\\n<li class=\"js-3-pager\"><a href=\"?query=&asc=true&order=&page=3\" data-page=\"3\">3</a></li>\\n<li class=\"js-4-pager\"><a href=\"?query=&asc=true&order=&page=4\" data-page=\"4\">4</a></li>\\n<li class=\"txt-pager js-next-pager\"><a data-page=\"2\" href=\"?query=&asc=true&order=&page=2\">\\xe4\\xb8\\x8b\\xe4\\xb8\\x80\\xe9\\xa1\\xb5</a></li>\\n<li class=\"txt-pager js-last-pager\"><a data-page=\"4\" href=\"?query=&asc=true&order=&page=4\">\\xe6\\x9c\\xab\\xe9\\xa1\\xb5</a></li>\\n</ul>\\n</div>\\n</div>\\n</div>\\n<div class=\"module-box interested-topic\">\\n<div class=\"module-head clearfix\">\\n<h1>\\xe4\\xbd\\xa0\\xe6\\x84\\x9f\\xe5\\x85\\xb4\\xe8\\xb6\\xa3\\xe7\\x9a\\x84</h1>\\n</div>\\n<div class=\"module-body\">\\n<ul class=\"topic-list clearfix\">\\n<li>\\n<a class=\"topic-img\" href=\"http://www.nowcoder.com/activity/project-courses\">\\n<img src=\"http://uploadfiles.nowcoder.net/activity%2Fproject_course_214x145(1).jpg\">\\n</a>\\n<div class=\"topic-info\">\\n<h3 class=\"topic-head\" title=\"\\xe7\\x89\\x9b\\xe5\\xae\\xa2\\xe9\\xa1\\xb9\\xe7\\x9b\\xae\\xe8\\xaf\\xbe\">\\xe7\\x89\\x9b\\xe5\\xae\\xa2\\xe9\\xa1\\xb9\\xe7\\x9b\\xae\\xe8\\xaf\\xbe</h3>\\n<a href=\"http://www.nowcoder.com/activity/project-courses\" class=\"btn btn-primary btn-sm\">\\xe9\\xa9\\xac\\xe4\\xb8\\x8a\\xe7\\xbb\\x83\\xe4\\xb9\\xa0</a>\\n</div>\\n</li>\\n<li>\\n<a class=\"topic-img\" href=\"http://www.nowcoder.com/courses/1\">\\n<img src=\"http://static.nowcoder.net/images/courselist/vod_course_chengyun_217x145.png\">\\n</a>\\n<div class=\"topic-info\">\\n<h3 class=\"topic-head\" title=\"BAT\\xe9\\x9d\\xa2\\xe8\\xaf\\x95\\xe7\\xae\\x97\\xe6\\xb3\\x95\\xe7\\xb2\\xbe\\xe5\\x93\\x81\\xe8\\xaf\\xbe\">BAT\\xe9\\x9d\\xa2\\xe8\\xaf\\x95\\xe7\\xae\\x97\\xe6\\xb3\\x95\\xe7\\xb2\\xbe\\xe5\\x93\\x81\\xe8\\xaf\\xbe</h3>\\n<a href=\"http://www.nowcoder.com/courses/1\" class=\"btn btn-primary btn-sm\">\\xe9\\xa9\\xac\\xe4\\xb8\\x8a\\xe7\\xbb\\x83\\xe4\\xb9\\xa0</a>\\n</div>\\n</li>\\n<li>\\n<a class=\"topic-img\" href=\"http://www.nowcoder.com/courses/10\">\\n<img src=\"http://uploadfiles.nowcoder.net/banner/course_python_217x145.png\">\\n</a>\\n<div class=\"topic-info\">\\n<h3 class=\"topic-head\" title=\"Python\\xe5\\x85\\xa5\\xe9\\x97\\xa8\\xe5\\x88\\xb0\\xe5\\xbc\\x80\\xe5\\x8f\\x91\\xe5\\xae\\x9e\\xe6\\x88\\x98\">Python\\xe5\\x85\\xa5\\xe9\\x97\\xa8\\xe5\\x88\\xb0\\xe5\\xbc\\x80\\xe5\\x8f\\x91\\xe5\\xae\\x9e\\xe6\\x88\\x98</h3>\\n<a href=\"http://www.nowcoder.com/courses/10\" class=\"btn btn-primary btn-sm\">\\xe9\\xa9\\xac\\xe4\\xb8\\x8a\\xe7\\xbb\\x83\\xe4\\xb9\\xa0</a>\\n</div>\\n</li>\\n</ul>\\n</div>\\n</div>\\n</div>\\n<!--\\xe4\\xb8\\xbb\\xe4\\xbd\\x93\\xe5\\x86\\x85\\xe5\\xae\\xb9\\xe7\\xbb\\x93\\xe6\\x9d\\x9f-->\\n<div class=\"nk-bar\">\\n<div class=\"module-box\">\\n<div class=\"module-head clearfix\">\\n<h1>\\xe6\\x8c\\x91\\xe6\\x88\\x98\\xe6\\x8e\\x92\\xe8\\xa1\\x8c\\xe6\\xa6\\x9c</h1>\\n</div>\\n<div class=\"menu-box side-tab-box\">\\n<ul class=\"menu clearfix\">\\n<li class=\"selected\">\\n<a href=\"javascript:void(0);\">\\n\\xe6\\x9c\\xac\\xe5\\x91\\xa8\\xe6\\x8e\\x92\\xe8\\xa1\\x8c\\n</a>\\n</li>\\n<li>\\n<a href=\"javascript:void(0);\">\\n\\xe6\\x80\\xbb\\xe6\\x8e\\x92\\xe8\\xa1\\x8c\\n</a>\\n</li>\\n</ul>\\n</div>\\n<div class=\"module-body browse-rank\">\\n<ul class=\"list-mod  week-board \" >\\n<li>\\n<span class=\"browse-num  top-browse  top1 \">1</span>\\n<a href=\"/profile/9347407\" class=\"head-pic js-nc-card\" data-card-uid=\"9347407\">\\n<img src=\"https://images.nowcoder.com/images/20180309/9347407_1520558253817_605475850F555A9A1D76953CFB3E39A6@0e_100w_100h_0c_1i_1o_90Q_1x\">\\n</a>\\n<div class=\"list-info\">\\n<div class=\"list-name\">\\n<a target=\"_blank\" href=\"/profile/9347407\"\\nclass=\"level-color-7 js-nc-card\" data-card-uid=\"9347407\">__helloworld__</a>\\n</div>\\n<div class=\"list-detail\">\\xe9\\x80\\x9a\\xe8\\xbf\\x87\\xe7\\xbc\\x96\\xe7\\xa8\\x8b\\xe9\\xa2\\x9832\\xe9\\x81\\x93</div>\\n</div>\\n</li>\\n<li>\\n<span class=\"browse-num  top-browse  top2 \">2</span>\\n<a href=\"/profile/780037\" class=\"head-pic js-nc-card\" data-card-uid=\"780037\">\\n<img src=\"https://uploadfiles.nowcoder.net/images/20160419/780037_1461053684435_7C2C60506876716CCF0E706DB13D4511\">\\n</a>\\n<div class=\"list-info\">\\n<div class=\"list-name\">\\n<a target=\"_blank\" href=\"/profile/780037\"\\nclass=\"level-color-7 js-nc-card\" data-card-uid=\"780037\">\\xe7\\x89\\x9b\\xe5\\xae\\xa2780037\\xe5\\x8f\\xb7</a>\\n</div>\\n<div class=\"list-detail\">\\xe9\\x80\\x9a\\xe8\\xbf\\x87\\xe7\\xbc\\x96\\xe7\\xa8\\x8b\\xe9\\xa2\\x9826\\xe9\\x81\\x93</div>\\n</div>\\n</li>\\n<li>\\n<span class=\"browse-num  top-browse  top3 \">3</span>\\n<a href=\"/profile/6626301\" class=\"head-pic js-nc-card\" data-card-uid=\"6626301\">\\n<img src=\"https://images.nowcoder.com/images/20180306/6626301_1520316420444_605475850F555A9A1D76953CFB3E39A6@0e_100w_100h_0c_1i_1o_90Q_1x\">\\n</a>\\n<div class=\"list-info\">\\n<div class=\"list-name\">\\n<a target=\"_blank\" href=\"/profile/6626301\"\\nclass=\"level-color-7 js-nc-card\" data-card-uid=\"6626301\">\\xe6\\x9c\\xb1\\xe6\\x9e\\xab\\xe6\\x80\\xa1</a>\\n</div>\\n<div class=\"list-detail\">\\xe9\\x80\\x9a\\xe8\\xbf\\x87\\xe7\\xbc\\x96\\xe7\\xa8\\x8b\\xe9\\xa2\\x9821\\xe9\\x81\\x93</div>\\n</div>\\n</li>\\n<li>\\n<span class=\"browse-num  top-browse \">4</span>\\n<a href=\"/profile/8780477\" class=\"head-pic js-nc-card\" data-card-uid=\"8780477\">\\n<img src=\"https://uploadfiles.nowcoder.net/images/20170520/8780477_1495252509530_0564D4EC4885448FC55B26B11C1AE743\">\\n</a>\\n<div class=\"list-info\">\\n<div class=\"list-name\">\\n<a target=\"_blank\" href=\"/profile/8780477\"\\nclass=\"level-color-6 js-nc-card\" data-card-uid=\"8780477\">-4</a>\\n</div>\\n<div class=\"list-detail\">\\xe9\\x80\\x9a\\xe8\\xbf\\x87\\xe7\\xbc\\x96\\xe7\\xa8\\x8b\\xe9\\xa2\\x9821\\xe9\\x81\\x93</div>\\n</div>\\n</li>\\n<li>\\n<span class=\"browse-num  top-browse \">5</span>\\n<a href=\"/profile/6124091\" class=\"head-pic js-nc-card\" data-card-uid=\"6124091\">\\n<img src=\"https://static.nowcoder.net/head/117m.png\">\\n</a>\\n<div class=\"list-info\">\\n<div class=\"list-name\">\\n<a target=\"_blank\" href=\"/profile/6124091\"\\nclass=\"level-color-6 js-nc-card\" data-card-uid=\"6124091\">It_BeeCoder</a>\\n</div>\\n<div class=\"list-detail\">\\xe9\\x80\\x9a\\xe8\\xbf\\x87\\xe7\\xbc\\x96\\xe7\\xa8\\x8b\\xe9\\xa2\\x9819\\xe9\\x81\\x93</div>\\n</div>\\n</li>\\n</ul>\\n<a href=\"/ta/2017test/ranking\" class=\"all-rank-list week-board js-sort-0\">\\n\\xe6\\x9f\\xa5\\xe7\\x9c\\x8b\\xe5\\x85\\xa8\\xe9\\x83\\xa8\\xe6\\xa6\\x9c\\xe5\\x8d\\x95 &gt;\\n</a>\\n<ul class=\"list-mod  total-board \" style=\"display:none;\">\\n<li>\\n<span class=\"browse-num  top-browse  top1 \">1</span>\\n<a href=\"/profile/6939745\" class=\"head-pic js-nc-card\" data-card-uid=\"6939745\">\\n<img src=\"https://static.nowcoder.net/head/907m.png\">\\n</a>\\n<div class=\"list-info\">\\n<div class=\"list-name\">\\n<a target=\"_blank\" href=\"/profile/6939745\"\\nclass=\"level-color-9 js-nc-card\" data-card-uid=\"6939745\">\\xe7\\x89\\x9b\\xe5\\xae\\xa26939745\\xe5\\x8f\\xb7</a>\\n</div>\\n<div class=\"list-detail\">\\xe9\\x80\\x9a\\xe8\\xbf\\x87\\xe7\\xbc\\x96\\xe7\\xa8\\x8b\\xe9\\xa2\\x9869\\xe9\\x81\\x93</div>\\n</div>\\n</li>\\n<li>\\n<span class=\"browse-num  top-browse  top2 \">2</span>\\n<a href=\"/profile/8240099\" class=\"head-pic js-nc-card\" data-card-uid=\"8240099\">\\n<img src=\"https://uploadfiles.nowcoder.net/images/20161205/8240099_1480930085210_7C2C60506876716CCF0E706DB13D4511\">\\n</a>\\n<div class=\"list-info\">\\n<div class=\"list-name\">\\n<a target=\"_blank\" href=\"/profile/8240099\"\\nclass=\"level-color-8 js-nc-card\" data-card-uid=\"8240099\">xy93</a>\\n</div>\\n<div class=\"list-detail\">\\xe9\\x80\\x9a\\xe8\\xbf\\x87\\xe7\\xbc\\x96\\xe7\\xa8\\x8b\\xe9\\xa2\\x9869\\xe9\\x81\\x93</div>\\n</div>\\n</li>\\n<li>\\n<span class=\"browse-num  top-browse  top3 \">3</span>\\n<a href=\"/profile/2726562\" class=\"head-pic js-nc-card\" data-card-uid=\"2726562\">\\n<img src=\"https://uploadfiles.nowcoder.net/images/20170316/2726562_1489668967726_7C2C60506876716CCF0E706DB13D4511\">\\n</a>\\n<div class=\"list-info\">\\n<div class=\"list-name\">\\n<a target=\"_blank\" href=\"/profile/2726562\"\\nclass=\"level-color-8 js-nc-card\" data-card-uid=\"2726562\">\\xe9\\xa3\\x9e\\xe7\\xbf\\x94\\xe7\\x9a\\x84\\xe5\\x88\\x9d\\xe5\\xad\\xa6\\xe8\\x80\\x85</a>\\n</div>\\n<div class=\"list-detail\">\\xe9\\x80\\x9a\\xe8\\xbf\\x87\\xe7\\xbc\\x96\\xe7\\xa8\\x8b\\xe9\\xa2\\x9869\\xe9\\x81\\x93</div>\\n</div>\\n</li>\\n<li>\\n<span class=\"browse-num  top-browse \">4</span>\\n<a href=\"/profile/3576531\" class=\"head-pic js-nc-card\" data-card-uid=\"3576531\">\\n<img src=\"https://uploadfiles.nowcoder.net/images/20161226/3576531_1482717536906_7C2C60506876716CCF0E706DB13D4511\">\\n</a>\\n<div class=\"list-info\">\\n<div class=\"list-name\">\\n<a target=\"_blank\" href=\"/profile/3576531\"\\nclass=\"level-color-9 js-nc-card\" data-card-uid=\"3576531\">\\xe6\\xb2\\xa1\\xe6\\x9c\\x89\\xe6\\xa2\\xa6\\xe6\\x83\\xb3\\xe4\\xbd\\x95\\xe5\\xbf\\x85\\xe8\\xbf\\x9c\\xe6\\x96\\xb9</a>\\n</div>\\n<div class=\"list-detail\">\\xe9\\x80\\x9a\\xe8\\xbf\\x87\\xe7\\xbc\\x96\\xe7\\xa8\\x8b\\xe9\\xa2\\x9869\\xe9\\x81\\x93</div>\\n</div>\\n</li>\\n<li>\\n<span class=\"browse-num  top-browse \">5</span>\\n<a href=\"/profile/5926751\" class=\"head-pic js-nc-card\" data-card-uid=\"5926751\">\\n<img src=\"https://uploadfiles.nowcoder.net/images/20170316/5926751_1489671488621_A2CAE49AED756BEC976305212606275E\">\\n</a>\\n<div class=\"list-info\">\\n<div class=\"list-name\">\\n<a target=\"_blank\" href=\"/profile/5926751\"\\nclass=\"level-color-8 js-nc-card\" data-card-uid=\"5926751\">\\xe8\\xb5\\xb5\\xe7\\xbf\\x94</a>\\n</div>\\n<div class=\"list-detail\">\\xe9\\x80\\x9a\\xe8\\xbf\\x87\\xe7\\xbc\\x96\\xe7\\xa8\\x8b\\xe9\\xa2\\x9869\\xe9\\x81\\x93</div>\\n</div>\\n</li>\\n</ul>\\n<a href=\"/ta/2017test/ranking?tab=total\" class=\"all-rank-list total-board js-sort-1\"\\nstyle=\"display: none;\">\\n\\xe6\\x9f\\xa5\\xe7\\x9c\\x8b\\xe5\\x85\\xa8\\xe9\\x83\\xa8\\xe6\\xa6\\x9c\\xe5\\x8d\\x95 &gt;\\n</a>\\n</div>\\n</div>\\n<div class=\"module-box\">\\n<div class=\"module-head clearfix\">\\n<h1>\\xe4\\xbb\\x96\\xe4\\xbb\\xac\\xe4\\xb9\\x9f\\xe5\\x9c\\xa8\\xe5\\x81\\x9a</h1>\\n</div>\\n<div class=\"module-body browse-rank\">\\n<ul class=\"list-mod \" >\\n<li>\\n<span  style=\"visibility:hidden\" class=\"browse-num  top-browse  top1 \">1</span>\\n<a href=\"/profile/2714688\" class=\"head-pic js-nc-card\" data-card-uid=\"2714688\">\\n<img src=\"https://uploadfiles.nowcoder.net/images/20180211/2714688_1518363965712_7C2C60506876716CCF0E706DB13D4511\">\\n</a>\\n<div class=\"list-info\">\\n<div class=\"list-name\">\\n<a target=\"_blank\" href=\"/profile/2714688\"\\nclass=\"level-color-6 js-nc-card\" data-card-uid=\"2714688\">\\xe7\\x99\\xbd\\xe5\\xad\\xa6\\xe5\\xa4\\xa7\\xe5\\xb8\\x88</a>\\n</div>\\n<div class=\"list-detail\">30\\xe5\\x88\\x86\\xe9\\x92\\x9f\\xe5\\x89\\x8d</div>\\n</div>\\n</li>\\n<li>\\n<span  style=\"visibility:hidden\" class=\"browse-num  top-browse  top2 \">2</span>\\n<a href=\"/profile/8310691\" class=\"head-pic js-nc-card\" data-card-uid=\"8310691\">\\n<img src=\"https://images.nowcoder.com/images/20180327/8310691_1522164912245_F4056F6491C6760B43CCD71318F94C19@0e_100w_100h_0c_1i_1o_90Q_1x\">\\n</a>\\n<div class=\"list-info\">\\n<div class=\"list-name\">\\n<a target=\"_blank\" href=\"/profile/8310691\"\\nclass=\"level-color-1 js-nc-card\" data-card-uid=\"8310691\">\\xe8\\x8b\\x8f\\xe7\\xa6\\xbeSUHE</a>\\n</div>\\n<div class=\"list-detail\">1\\xe5\\xb0\\x8f\\xe6\\x97\\xb6\\xe5\\x89\\x8d</div>\\n</div>\\n</li>\\n<li>\\n<span  style=\"visibility:hidden\" class=\"browse-num  top-browse  top3 \">3</span>\\n<a href=\"/profile/5399002\" class=\"head-pic js-nc-card\" data-card-uid=\"5399002\">\\n<img src=\"https://uploadfiles.nowcoder.net/images/20171002/5399002_1506951346435_7C2C60506876716CCF0E706DB13D4511\">\\n</a>\\n<div class=\"list-info\">\\n<div class=\"list-name\">\\n<a target=\"_blank\" href=\"/profile/5399002\"\\nclass=\"level-color-5 js-nc-card\" data-card-uid=\"5399002\">\\xef\\xb9\\x8f\\xe6\\x80\\x81\\xe5\\xba\\xa6\\xe5\\xb0\\x91\\xe5\\xb9\\xb4\\xe3\\x82\\x9c</a>\\n</div>\\n<div class=\"list-detail\">1\\xe5\\xb0\\x8f\\xe6\\x97\\xb6\\xe5\\x89\\x8d</div>\\n</div>\\n</li>\\n<li>\\n<span  style=\"visibility:hidden\" class=\"browse-num  top-browse \">4</span>\\n<a href=\"/profile/1658643\" class=\"head-pic js-nc-card\" data-card-uid=\"1658643\">\\n<img src=\"https://images.nowcoder.com/head/889m.png@0e_100w_100h_0c_1i_1o_90Q_1x.png\">\\n</a>\\n<div class=\"list-info\">\\n<div class=\"list-name\">\\n<a target=\"_blank\" href=\"/profile/1658643\"\\nclass=\"level-color-5 js-nc-card\" data-card-uid=\"1658643\">\\xe7\\x89\\x9b\\xe5\\xae\\xa21658643\\xe5\\x8f\\xb7</a>\\n</div>\\n<div class=\"list-detail\">1\\xe5\\xb0\\x8f\\xe6\\x97\\xb6\\xe5\\x89\\x8d</div>\\n</div>\\n</li>\\n<li>\\n<span  style=\"visibility:hidden\" class=\"browse-num  top-browse \">5</span>\\n<a href=\"/profile/8950611\" class=\"head-pic js-nc-card\" data-card-uid=\"8950611\">\\n<img src=\"https://images.nowcoder.com/images/20180324/8950611_1521862769911_605475850F555A9A1D76953CFB3E39A6@0e_100w_100h_0c_1i_1o_90Q_1x\">\\n</a>\\n<div class=\"list-info\">\\n<div class=\"list-name\">\\n<a target=\"_blank\" href=\"/profile/8950611\"\\nclass=\"level-color-1 js-nc-card\" data-card-uid=\"8950611\">Fang.</a>\\n</div>\\n<div class=\"list-detail\">1\\xe5\\xb0\\x8f\\xe6\\x97\\xb6\\xe5\\x89\\x8d</div>\\n</div>\\n</li>\\n</ul>\\n</div>\\n</div>\\n<div class=\"module-box side-topic-box\" id=\"jsSideTopicList\">\\n<div class=\"module-head clearfix\">\\n<div class=\"module-head-oprt\">\\n<span class=\"mho-page topic-slide-progress\"></span>\\n<a href=\"javascript:void(0);\" class=\"mho-pre js-topic-mho-pre\" title=\"\\xe4\\xb8\\x8a\\xe4\\xb8\\x80\\xe9\\xa1\\xb5\"></a>\\n<a href=\"javascript:void(0);\" class=\"mho-next js-topic-mho-next\" title=\"\\xe4\\xb8\\x8b\\xe4\\xb8\\x80\\xe9\\xa1\\xb5\"></a>\\n</div>\\n<h1>\\xe7\\x83\\xad\\xe9\\x97\\xa8\\xe6\\x8e\\xa8\\xe8\\x8d\\x90</h1>\\n</div>\\n<div class=\"module-body\">\\n<div class=\"topic-slide-box\">\\n<ul class=\"side-topic-list\">\\n<li>\\n<a href=\"/jump?type=ad&source=3&url=https%3A%2F%2Fwww.nowcoder.com%2Factivity%2F2018oversea%2Findex\">\\n<img src=\"https://uploadfiles.nowcoder.com/images/20180306/826546_1520303798451_3B184F0B228C394DDED6E89441F68298\" alt=\"\">\\n</a>\\n</li>\\n<li>\\n<a href=\"/jump?type=ad&source=3&url=https%3A%2F%2Fwww.nowcoder.com%2Fcourses%2Fsemester%2Falgorithm-elementary\">\\n<img src=\"https://uploadfiles.nowcoder.net/images/20180123/826546_1516708416423_EA0C763DA536EBE7941F6B2A5D854E25\" alt=\"\">\\n</a>\\n</li>\\n<li>\\n<a href=\"/jump?type=ad&source=3&url=https%3A%2F%2Fwww.nowcoder.com%2Fcourses%2Foverseas-study\">\\n<img src=\"https://uploadfiles.nowcoder.net/images/20180123/826546_1516708371272_4320A455AB5C946EAFD7E1B0E819688D\" alt=\"\">\\n</a>\\n</li>\\n<li>\\n<a href=\"/jump?type=ad&source=3&url=https%3A%2F%2Fwww.nowcoder.com%2Fcourses%2Fsemester%2Fsenior\">\\n<img src=\"https://uploadfiles.nowcoder.net/files/20170104/826546_1483534632567_238x922.png\" alt=\"\">\\n</a>\\n</li>\\n<li>\\n<a href=\"/jump?type=ad&source=3&url=https%3A%2F%2Fwww.nowcoder.com%2Fcourses%2Fsemester%2Fmedium\">\\n<img src=\"https://uploadfiles.nowcoder.net/files/20170104/826546_1483534607215_238x923.png\" alt=\"\">\\n</a>\\n</li>\\n<li>\\n<a href=\"/jump?type=ad&source=3&url=https%3A%2F%2Fwww.nowcoder.com%2Fcourses%2Fsemester%2Felementary\">\\n<img src=\"https://uploadfiles.nowcoder.net/files/20170104/826546_1483534580222_238x92.png\" alt=\"\">\\n</a>\\n</li>\\n</ul>\\n</div>\\n</div>\\n</div>\\n</div>\\n</div>\\n<div class=\"fixed-menu\">\\n<ul>\\n<li>\\n<a href=\"javascript:void(0);\" class=\"gotop js-nav-go-top\" title=\"\\xe5\\x9b\\x9e\\xe5\\x88\\xb0\\xe9\\xa1\\xb6\\xe9\\x83\\xa8\"></a>\\n</li>\\n<li>\\n<a class=\"fixed-wb\" target=\"_blank\" href=\"http://www.weibo.com/nowcoder\"></a>\\n</li>\\n<li>\\n<a href=\"tencent://groupwpa/?subcmd=all&param=7B2267726F757055696E223A3135373539343730352C2274696D655374616D70223A313431333130373737387D0A\" class=\"qq\" title=\"QQ\"></a>\\n</li>\\n<li>\\n<a href=\"javascript:void(0);\" class=\"wx\"></a>\\n<div class=\"wx-qrcode\">\\n<img src=\"//static.nowcoder.com/images/wx-rcode.jpg\" alt=\"\\xe4\\xba\\x8c\\xe7\\xbb\\xb4\\xe7\\xa0\\x81\" />\\n<p>\\xe6\\x89\\xab\\xe6\\x8f\\x8f\\xe4\\xba\\x8c\\xe7\\xbb\\xb4\\xe7\\xa0\\x81\\xef\\xbc\\x8c\\xe5\\x85\\xb3\\xe6\\xb3\\xa8\\xe7\\x89\\x9b\\xe5\\xae\\xa2\\xe7\\xbd\\x91</p>\\n</div>\\n</li>\\n<li>\\n<a href=\"/discuss/30\" class=\"feedback\" title=\"\\xe6\\x84\\x8f\\xe8\\xa7\\x81\\xe5\\x8f\\x8d\\xe9\\xa6\\x88\"></a>\\n<a href=\"/discuss/30\" class=\"feedback-letter\">\\xe6\\x84\\x8f\\xe8\\xa7\\x81\\xe5\\x8f\\x8d\\xe9\\xa6\\x88</a>\\n</li>\\n<li>\\n<a href=\"javascript:void(0);\" class=\"qrcode\"></a>\\n<div class=\"wx-qrcode\">\\n<img src=\"//uploadfiles.nowcoder.com/app/android/app.png\" alt=\"\\xe4\\xba\\x8c\\xe7\\xbb\\xb4\\xe7\\xa0\\x81\" />\\n<p>\\xe4\\xb8\\x8b\\xe8\\xbd\\xbd\\xe7\\x89\\x9b\\xe5\\xae\\xa2APP\\xef\\xbc\\x8c\\xe9\\x9a\\x8f\\xe6\\x97\\xb6\\xe9\\x9a\\x8f\\xe5\\x9c\\xb0\\xe5\\x88\\xb7\\xe9\\xa2\\x98</p>\\n</div>\\n</li>\\n</ul>\\n<div class=\"phone-qrcode\" style=\"display:none;\">\\n<a href=\"javascript:void(0);\" class=\"qrcode-close\">x</a>\\n<img src=\"//uploadfiles.nowcoder.com/app/android/app.png\" alt=\"\\xe4\\xba\\x8c\\xe7\\xbb\\xb4\\xe7\\xa0\\x81\" style=\"width:70px;height:70px;\" />\\n<p>\\xe6\\x89\\xab\\xe4\\xb8\\x80\\xe6\\x89\\xab\\xe4\\xb8\\x8b\\xe8\\xbd\\xbd\\xe7\\x89\\x9b\\xe5\\xae\\xa2APP</p>\\n</div>\\n</div>\\n<div class=\"fixed-foot clearfix js-fixed-foot\" style=\"display:none;\">\\n<div class=\"fixed-foot-main\">\\n<div class=\"fixed-foot-tip\">\\xe5\\x88\\xb7\\xe7\\x9c\\x9f\\xe9\\xa2\\x98\\xe3\\x80\\x81\\xe8\\xa1\\xa5\\xe7\\xae\\x97\\xe6\\xb3\\x95\\xe3\\x80\\x81\\xe7\\x9c\\x8b\\xe9\\x9d\\xa2\\xe7\\xbb\\x8f\\xe3\\x80\\x81\\xe5\\xbe\\x97\\xe5\\x86\\x85\\xe6\\x8e\\xa8</div>\\n<div class=\"fixed-foot-login\">\\n<span>\\xe4\\xbd\\xbf\\xe7\\x94\\xa8\\xe7\\xac\\xac\\xe4\\xb8\\x89\\xe6\\x96\\xb9\\xe8\\xb4\\xa6\\xe5\\x8f\\xb7\\xe7\\x9b\\xb4\\xe6\\x8e\\xa5\\xe7\\x99\\xbb\\xe5\\xbd\\x95\\xe4\\xbd\\xbf\\xe7\\x94\\xa8\\xe5\\x90\\xa7\\xef\\xbc\\x9a</span>\\n<a href=\"javascript:void(0);\" data-href=\"https://api.weibo.com/oauth2/authorize?client_id=3023520088&redirect_uri=http%3A%2F%2Fwww.nowcoder.com%2Foauth2%2Fsinaconfig&response_type=code&state=web&scope=follow_app_official_microblog\" class=\"ft-login-item ft-login-wb nc-js-action-oauth\" title=\"\\xe7\\x99\\xbb\\xe5\\xbd\\x95\\xe5\\xbe\\xae\\xe5\\x8d\\x9a\"></a>\\n<a href=\"javascript:void(0);\" data-href=\"https://graph.qq.com/oauth2.0/authorize?client_id=101003590&redirect_uri=http%3A%2F%2Fwww.nowcoder.com%2Foauth2%2Fqqconfig&response_type=code&state=web\" class=\"ft-login-item ft-login-qz nc-js-action-oauth\" title=\"\\xe7\\x99\\xbb\\xe5\\xbd\\x95Qzone\"></a>\\n<a href=\"javascript:void(0);\" data-href=\"https://open.weixin.qq.com/connect/qrconnect?appid=wxfee0340998de6ab1&redirect_uri=http%3A%2F%2Fwww.nowcoder.com%2Foauth2%2Flogin%2Fweixin&response_type=code&scope=snsapi_login&state=11\" class=\"ft-login-item ft-login-wx nc-js-action-oauth\" title=\"\\xe7\\x99\\xbb\\xe5\\xbd\\x95\\xe5\\xbe\\xae\\xe4\\xbf\\xa1\"></a>\\n<a href=\"javascript:void(0);\" data-href=\"https://github.com/login/oauth/authorize?client_id=1c539827b9400016d0c9&scope=user:email&redirect_uri=http%3A%2F%2Fwww.nowcoder.com%2Foauth2%2Fgitconfig&response_type=code&state=web\" class=\"ft-login-item ft-login-git nc-js-action-oauth\" title=\"\\xe7\\x99\\xbb\\xe5\\xbd\\x95git\"></a>\\n<a href=\"javascript:void(0);\" class=\"more-login nc-req-auth\">\\xe6\\x9b\\xb4\\xe5\\xa4\\x9a</a>\\n</div>\\n</div>\\n</div>\\n<div class=\"ft-wrap\">\\n<div class=\"ft-cont clearfix\">\\n<div class=\"ft-main\">\\n<ul class=\"ft-links\">\\n<li><a href=\"/html/aboutus\">\\xe5\\x85\\xb3\\xe4\\xba\\x8e\\xe6\\x88\\x91\\xe4\\xbb\\xac</a></li>\\n<li><a href=\"/html/joinus\">\\xe5\\x8a\\xa0\\xe5\\x85\\xa5\\xe6\\x88\\x91\\xe4\\xbb\\xac</a></li>\\n<li><a href=\"/discuss/30\" target=\"_blank\">\\xe6\\x84\\x8f\\xe8\\xa7\\x81\\xe5\\x8f\\x8d\\xe9\\xa6\\x88</a></li>\\n<li><a href=\"https://hr.nowcoder.com\">\\xe4\\xbc\\x81\\xe4\\xb8\\x9a\\xe6\\x9c\\x8d\\xe5\\x8a\\xa1</a></li>\\n<li><a href=\"/html/cooperation\">\\xe7\\xbd\\x91\\xe7\\xab\\x99\\xe5\\x90\\x88\\xe4\\xbd\\x9c</a></li>\\n<li><a href=\"/html/disclaimer\">\\xe5\\x85\\x8d\\xe8\\xb4\\xa3\\xe5\\xa3\\xb0\\xe6\\x98\\x8e</a></li>\\n<li><a href=\"/html/links\">\\xe5\\x8f\\x8b\\xe6\\x83\\x85\\xe9\\x93\\xbe\\xe6\\x8e\\xa5</a></li>\\n</ul>\\n<ul class=\"webrights\">\\n<li><span style=\"color:#a9b8ca;\">\\xe4\\xba\\xacICP\\xe5\\xa4\\x8714055008\\xe5\\x8f\\xb7-4</span></li>\\n<li>\\n<span style=\"color:#a9b8ca;\">\\n<img src=\"//static.nowcoder.com/company/images/res/ghs.png\" style=\"width:18px;height:18px;\">\\n<a style=\"font-size:12px;\" class=\"ft-info-item\" target=\"_blank\" href=\"http://www.beian.gov.cn/portal/registerSystemInfo?recordcode=11011402010078\">\\xe4\\xba\\xac\\xe5\\x85\\xac\\xe7\\xbd\\x91\\xe5\\xae\\x89\\xe5\\xa4\\x87 11011402010078\\xe5\\x8f\\xb7</a>\\n</span>\\n</li>\\n<li><a href=\"javascript:void(0);\">\\xe7\\x89\\x9b\\xe5\\xae\\xa2\\xe7\\xbd\\x91&copy;2017 All Rights Reserved</a></li>\\n</ul>\\n</div>\\n<dl class=\"ft-web-info\">\\n<dt class=\"ft-web-name\">\\xe7\\x89\\x9b\\xe5\\xae\\xa2\\xe7\\xbd\\x91\\xef\\xbc\\x8c\\xe7\\xa8\\x8b\\xe5\\xba\\x8f\\xe5\\x91\\x98\\xe5\\xbf\\x85\\xe5\\xa4\\x87\\xe6\\xb1\\x82\\xe8\\x81\\x8c\\xe7\\xa5\\x9e\\xe5\\x99\\xa8</dt>\\n<dd class=\"ft-info-item\">QQ\\xe7\\xbe\\xa4\\xef\\xbc\\x9a169195721</dd>\\n<dd class=\"ft-info-item\">\\xe5\\xbe\\xae \\xe4\\xbf\\xa1\\xef\\xbc\\x9awww_nowcoder_com\\n<a href=\"javascript:;\" class=\"btn btn-primary btn-xs\">\\xe5\\x85\\xb3\\xe6\\xb3\\xa8\\n<div class=\"tooltip top\">\\n<div class=\"tooltip-arrow\"></div>\\n<div class=\"tooltip-inner\"><img width=\"80\" src=\"//static.nowcoder.com//images/wx-rcode.jpg\" /></div>\\n</div>\\n</a>\\n</dd>\\n<dd class=\"ft-info-item\">\\xe5\\xbe\\xae \\xe5\\x8d\\x9a\\xef\\xbc\\x9a\\xe7\\x89\\x9b\\xe5\\xae\\xa2\\xe7\\xbd\\x91\\n<a href=\"http://weibo.com/nowcoder\" class=\"btn btn-primary btn-xs\" target=\"_blank\">\\xe5\\x85\\xb3\\xe6\\xb3\\xa8\\n</a>\\n</dd>\\n</dl>\\n<div class=\"ft-app\">\\n<div class=\"ft-qrcode-box\">\\n<img width=\"128\" src=\"//uploadfiles.nowcoder.com/app/app_download.png\" />\\n</div>\\n<p>\\xe6\\x89\\xab\\xe4\\xb8\\x80\\xe6\\x89\\xab\\xef\\xbc\\x8c\\xe6\\x8a\\x8a\\xe9\\xa2\\x98\\xe7\\x9b\\xae\\xe8\\xa3\\x85\\xe8\\xbf\\x9b\\xe5\\x8f\\xa3\\xe8\\xa2\\x8b</p>\\n</div>\\n</div>\\n</div>\\n<div class=\"ad-window-sm js-global-tips\" style=\"display:none;\">\\n<a href=\"javascript:void(0);\" class=\"ad-close\">X</a>\\n<div class=\"ad-live-active\"></div>\\n<a class=\"link-green js-global-tips-href\" target=\"_blank\" href=\"\">\\xe7\\x82\\xb9\\xe5\\x87\\xbb\\xe6\\x9f\\xa5\\xe7\\x9c\\x8b>></a>\\n</div>\\n\\n</div>\\n<script>\\nwindow.isLogin = false;\\nwindow.globalInfo = {\\ncanLoadInIframe: \\'false\\'\\n};\\nwindow.useNeteaseCaptcha = true;\\n</script>\\n<script type=\"text/javascript\">\\nwindow.ncDeployImageRoot = \"//static.nowcoder.com/\";\\nwindow.ncJsVersion = \"1.02.27\";\\nwindow.ncJsPluginVersion = \"1.0.14\";\\n</script>\\n<script src=\"//static.nowcoder.com/nc/js/1.02.27/sea.js\" type=\"text/javascript\"></script>\\n<script src=\"//static.nowcoder.com/nc/js/1.02.27/nc.cpn.js\" type=\"text/javascript\"></script>\\n<script src=\"//static.nowcoder.com/nowcoder/1.2.973/javascripts/base.js\" type=\"text/javascript\"></script>\\n<script type=\"text/javascript\">\\nif (!window.seajs) {\\nvar oBody = document.body;\\nvar aChild = oBody.childNodes;\\nvar oDv = document.createElement(\\'div\\');\\noDv.innerHTML = [\\n\\'<div style=\"text-align:center;\">\\',\\n\\'<div style=\"font-size:18px;margin:20px 0;font-weight: bold;\">\\',\\n\\'\\xe9\\x9d\\x99\\xe6\\x80\\x81\\xe6\\x96\\x87\\xe4\\xbb\\xb6\\xe5\\x8a\\xa0\\xe8\\xbd\\xbd\\xe5\\x87\\xba\\xe9\\x94\\x99\\xef\\xbc\\x8c\\xe8\\xaf\\xb7\\xe6\\xa3\\x80\\xe6\\x9f\\xa5\\xe5\\xbd\\x93\\xe5\\x89\\x8d\\xe7\\xbd\\x91\\xe7\\xbb\\x9c\\xe6\\x83\\x85\\xe5\\x86\\xb5\\xe6\\x98\\xaf\\xe5\\x90\\xa6\\xe6\\xad\\xa3\\xe5\\xb8\\xb8\\xef\\xbc\\x8c\\xe6\\x88\\x96\\xe8\\x80\\x85\\xe6\\x8c\\x89\\xe7\\x85\\xa7\\xe4\\xb8\\x8b\\xe9\\x9d\\xa2\\xe6\\xad\\xa5\\xe9\\xaa\\xa4\\xe4\\xbf\\xae\\xe6\\x94\\xb9\\xe7\\x94\\xb5\\xe8\\x84\\x91\\xe7\\x9a\\x84DNS\\',\\n\\'<br />\\xe6\\x8e\\xa8\\xe8\\x8d\\x90\\xe4\\xbd\\xbf\\xe7\\x94\\xa8\\xe4\\xbb\\xa5\\xe4\\xb8\\x8bDNS: 223.5.5.5(\\xe9\\xa6\\x96\\xe9\\x80\\x89) \\xe5\\x92\\x8c 223.6.6.6(\\xe5\\xa4\\x87\\xe7\\x94\\xa8)\\',\\n\\'</div>\\',\\n\\'<img style=\"border:1px solid #ccc;\" src=\"//ww2.sinaimg.cn/mw690/44b25cb0jw1f5vt92tsz1j20o03d97dt.jpg\" />\\',\\n\\'</div>\\'].join(\\'\\');\\naChild.length === 0 && oBody.appendChild(oDv);\\naChild.length > 0 && oBody.insertBefore(oDv, aChild[0]);\\n}\\nseajs.use(\\'nowcoder/1.2.973/javascripts/site/common/index\\');\\nseajs.use(\\'nowcoder/1.2.973/javascripts/site/common/nav\\');\\n</script>\\n<script>\\nvar _hmt = _hmt || [];\\n(function() {\\nvar hm = document.createElement(\"script\");\\nhm.src = \"//hm.baidu.com/hm.js?a808a1326b6c06c437de769d1b85b870\";\\nvar s = document.getElementsByTagName(\"script\")[0];\\ns.parentNode.insertBefore(hm, s);\\n})();\\n</script>\\n<script type=\"text/javascript\">\\nseajs.use(\\'nowcoder/1.2.973/javascripts/site/ta/index\\');\\n</script>\\n</body>\\n</html>\\n'\n"
     ]
    }
   ],
   "source": [
    "url = \"https://www.nowcoder.com/ta/2017test\"\n",
    "headers = {\n",
    "    'User-Agent':'Mozilla/5.0 (Windows; U; Windows NT 6.1; en-US; rv:1.9.1.6) Gecko/20091201 Firefox/3.5.6'\n",
    "}\n",
    "response = requests.get(url,headers = headers)\n",
    "print(response.content)"
   ]
  },
  {
   "cell_type": "code",
   "execution_count": 16,
   "metadata": {},
   "outputs": [],
   "source": [
    "from bs4 import BeautifulSoup\n",
    "soup = BeautifulSoup(response.content,'lxml')"
   ]
  },
  {
   "cell_type": "code",
   "execution_count": 21,
   "metadata": {},
   "outputs": [],
   "source": [
    "data = pd.read_html(response.content,header=0)[0]\n",
    "tb = soup.table"
   ]
  },
  {
   "cell_type": "code",
   "execution_count": 22,
   "metadata": {
    "scrolled": true
   },
   "outputs": [
    {
     "data": {
      "text/plain": [
       "[<td class=\"offer-pot txt-left\">\n",
       " <i class=\"icon-spot-gray\"></i>\n",
       " 网易\n",
       " </td>, <td class=\"txt-left\">\n",
       " <a href=\"/practice/661c49118ca241909add3a11c96408c8?tpId=85&amp;tqId=29830&amp;tPage=1&amp;rp=1&amp;ru=/ta/2017test&amp;qru=/ta/2017test/question-ranking\">\n",
       " 合唱团\n",
       " </a>\n",
       " </td>, <td>6951</td>, <td>14.44%</td>]"
      ]
     },
     "execution_count": 22,
     "metadata": {},
     "output_type": "execute_result"
    }
   ],
   "source": [
    "rows = tb.find_all('tr')\n",
    "rows[1].find_all('td')"
   ]
  },
  {
   "cell_type": "code",
   "execution_count": 34,
   "metadata": {},
   "outputs": [
    {
     "data": {
      "text/plain": [
       "'/practice/661c49118ca241909add3a11c96408c8?tpId=85&tqId=29830&tPage=1&rp=1&ru=/ta/2017test&qru=/ta/2017test/question-ranking'"
      ]
     },
     "execution_count": 34,
     "metadata": {},
     "output_type": "execute_result"
    }
   ],
   "source": [
    "a = rows[1].a\n",
    "a.attrs['href']"
   ]
  },
  {
   "cell_type": "code",
   "execution_count": 35,
   "metadata": {
    "scrolled": true
   },
   "outputs": [
    {
     "data": {
      "text/html": [
       "<div>\n",
       "<style scoped>\n",
       "    .dataframe tbody tr th:only-of-type {\n",
       "        vertical-align: middle;\n",
       "    }\n",
       "\n",
       "    .dataframe tbody tr th {\n",
       "        vertical-align: top;\n",
       "    }\n",
       "\n",
       "    .dataframe thead th {\n",
       "        text-align: right;\n",
       "    }\n",
       "</style>\n",
       "<table border=\"1\" class=\"dataframe\">\n",
       "  <thead>\n",
       "    <tr style=\"text-align: right;\">\n",
       "      <th></th>\n",
       "      <th>考点</th>\n",
       "      <th>题目</th>\n",
       "      <th>热度指数</th>\n",
       "      <th>通过率</th>\n",
       "      <th>url</th>\n",
       "    </tr>\n",
       "  </thead>\n",
       "  <tbody>\n",
       "    <tr>\n",
       "      <th>0</th>\n",
       "      <td>网易</td>\n",
       "      <td>合唱团</td>\n",
       "      <td>6951</td>\n",
       "      <td>14.44%</td>\n",
       "      <td>/practice/661c49118ca241909add3a11c96408c8?tpI...</td>\n",
       "    </tr>\n",
       "    <tr>\n",
       "      <th>1</th>\n",
       "      <td>网易</td>\n",
       "      <td>地牢逃脱</td>\n",
       "      <td>1833</td>\n",
       "      <td>18.29%</td>\n",
       "      <td>/practice/0385945b7d834a99bc0010e67f892e38?tpI...</td>\n",
       "    </tr>\n",
       "    <tr>\n",
       "      <th>2</th>\n",
       "      <td>网易</td>\n",
       "      <td>下厨房</td>\n",
       "      <td>6143</td>\n",
       "      <td>33.73%</td>\n",
       "      <td>/practice/ca5c9ba9ebac4fd5ae9ba46114b0f476?tpI...</td>\n",
       "    </tr>\n",
       "    <tr>\n",
       "      <th>3</th>\n",
       "      <td>网易</td>\n",
       "      <td>分田地</td>\n",
       "      <td>1410</td>\n",
       "      <td>14.84%</td>\n",
       "      <td>/practice/fe30a13b5fb84b339cb6cb3f70dca699?tpI...</td>\n",
       "    </tr>\n",
       "    <tr>\n",
       "      <th>4</th>\n",
       "      <td>网易</td>\n",
       "      <td>分苹果</td>\n",
       "      <td>4587</td>\n",
       "      <td>24.48%</td>\n",
       "      <td>/practice/a174820de48147d489f64103af152709?tpI...</td>\n",
       "    </tr>\n",
       "    <tr>\n",
       "      <th>5</th>\n",
       "      <td>网易</td>\n",
       "      <td>星际穿越</td>\n",
       "      <td>3952</td>\n",
       "      <td>21.39%</td>\n",
       "      <td>/practice/53e4c208b8cf497086ecd65ef45349bb?tpI...</td>\n",
       "    </tr>\n",
       "    <tr>\n",
       "      <th>6</th>\n",
       "      <td>网易</td>\n",
       "      <td>藏宝图</td>\n",
       "      <td>4164</td>\n",
       "      <td>29.71%</td>\n",
       "      <td>/practice/74475ee28edb497c8aa4f8c370f08c30?tpI...</td>\n",
       "    </tr>\n",
       "    <tr>\n",
       "      <th>7</th>\n",
       "      <td>网易</td>\n",
       "      <td>数列还原</td>\n",
       "      <td>1498</td>\n",
       "      <td>28.96%</td>\n",
       "      <td>/practice/b698e67a2f5b450a824527e82ed7495d?tpI...</td>\n",
       "    </tr>\n",
       "    <tr>\n",
       "      <th>8</th>\n",
       "      <td>网易</td>\n",
       "      <td>混合颜料</td>\n",
       "      <td>2011</td>\n",
       "      <td>16.27%</td>\n",
       "      <td>/practice/5b1116081ee549f882970eca84b4785a?tpI...</td>\n",
       "    </tr>\n",
       "    <tr>\n",
       "      <th>9</th>\n",
       "      <td>网易</td>\n",
       "      <td>幸运的袋子</td>\n",
       "      <td>2237</td>\n",
       "      <td>15.74%</td>\n",
       "      <td>/practice/a5190a7c3ec045ce9273beebdfe029ee?tpI...</td>\n",
       "    </tr>\n",
       "    <tr>\n",
       "      <th>10</th>\n",
       "      <td>网易</td>\n",
       "      <td>不要二</td>\n",
       "      <td>2383</td>\n",
       "      <td>30.91%</td>\n",
       "      <td>/practice/1183548cd48446b38da501e58d5944eb?tpI...</td>\n",
       "    </tr>\n",
       "    <tr>\n",
       "      <th>11</th>\n",
       "      <td>网易</td>\n",
       "      <td>解救小易</td>\n",
       "      <td>3765</td>\n",
       "      <td>36.53%</td>\n",
       "      <td>/practice/cd763d8541fc4243b8d3b967bb6d6b6a?tpI...</td>\n",
       "    </tr>\n",
       "    <tr>\n",
       "      <th>12</th>\n",
       "      <td>网易</td>\n",
       "      <td>统计回文</td>\n",
       "      <td>3385</td>\n",
       "      <td>30.99%</td>\n",
       "      <td>/practice/9d1559511b3849deaa71b576fa7009dc?tpI...</td>\n",
       "    </tr>\n",
       "    <tr>\n",
       "      <th>13</th>\n",
       "      <td>网易</td>\n",
       "      <td>饥饿的小易</td>\n",
       "      <td>1618</td>\n",
       "      <td>16.64%</td>\n",
       "      <td>/practice/5ee8df898312465a95553d82ad8898c3?tpI...</td>\n",
       "    </tr>\n",
       "    <tr>\n",
       "      <th>14</th>\n",
       "      <td>网易</td>\n",
       "      <td>两种排序方法</td>\n",
       "      <td>2742</td>\n",
       "      <td>26.05%</td>\n",
       "      <td>/practice/839f681bf36c486fbcc5fcb977ffe432?tpI...</td>\n",
       "    </tr>\n",
       "    <tr>\n",
       "      <th>15</th>\n",
       "      <td>网易</td>\n",
       "      <td>小易喜欢的单词</td>\n",
       "      <td>2101</td>\n",
       "      <td>32.77%</td>\n",
       "      <td>/practice/ca7b8af83e2f4ec1af2f23d6733223b5?tpI...</td>\n",
       "    </tr>\n",
       "    <tr>\n",
       "      <th>16</th>\n",
       "      <td>网易</td>\n",
       "      <td>Fibonacci数列</td>\n",
       "      <td>4124</td>\n",
       "      <td>35.72%</td>\n",
       "      <td>/practice/18ecd0ecf5ef4fe9ba3f17f8d00d2d66?tpI...</td>\n",
       "    </tr>\n",
       "    <tr>\n",
       "      <th>17</th>\n",
       "      <td>网易</td>\n",
       "      <td>数字游戏</td>\n",
       "      <td>2371</td>\n",
       "      <td>25.17%</td>\n",
       "      <td>/practice/876e3c5fcfa5469f8376370d5de87c06?tpI...</td>\n",
       "    </tr>\n",
       "    <tr>\n",
       "      <th>18</th>\n",
       "      <td>网易有道</td>\n",
       "      <td>洗牌</td>\n",
       "      <td>7047</td>\n",
       "      <td>17.69%</td>\n",
       "      <td>/practice/5a0a2c7e431e4fbbbb1ff32ac6e8dfa0?tpI...</td>\n",
       "    </tr>\n",
       "    <tr>\n",
       "      <th>19</th>\n",
       "      <td>网易有道</td>\n",
       "      <td>构造队列</td>\n",
       "      <td>4146</td>\n",
       "      <td>28.23%</td>\n",
       "      <td>/practice/657d09e2b3704574814089ba8566d98d?tpI...</td>\n",
       "    </tr>\n",
       "  </tbody>\n",
       "</table>\n",
       "</div>"
      ],
      "text/plain": [
       "      考点           题目  热度指数     通过率  \\\n",
       "0     网易          合唱团  6951  14.44%   \n",
       "1     网易         地牢逃脱  1833  18.29%   \n",
       "2     网易          下厨房  6143  33.73%   \n",
       "3     网易          分田地  1410  14.84%   \n",
       "4     网易          分苹果  4587  24.48%   \n",
       "5     网易         星际穿越  3952  21.39%   \n",
       "6     网易          藏宝图  4164  29.71%   \n",
       "7     网易         数列还原  1498  28.96%   \n",
       "8     网易         混合颜料  2011  16.27%   \n",
       "9     网易        幸运的袋子  2237  15.74%   \n",
       "10    网易          不要二  2383  30.91%   \n",
       "11    网易         解救小易  3765  36.53%   \n",
       "12    网易         统计回文  3385  30.99%   \n",
       "13    网易        饥饿的小易  1618  16.64%   \n",
       "14    网易       两种排序方法  2742  26.05%   \n",
       "15    网易      小易喜欢的单词  2101  32.77%   \n",
       "16    网易  Fibonacci数列  4124  35.72%   \n",
       "17    网易         数字游戏  2371  25.17%   \n",
       "18  网易有道           洗牌  7047  17.69%   \n",
       "19  网易有道         构造队列  4146  28.23%   \n",
       "\n",
       "                                                  url  \n",
       "0   /practice/661c49118ca241909add3a11c96408c8?tpI...  \n",
       "1   /practice/0385945b7d834a99bc0010e67f892e38?tpI...  \n",
       "2   /practice/ca5c9ba9ebac4fd5ae9ba46114b0f476?tpI...  \n",
       "3   /practice/fe30a13b5fb84b339cb6cb3f70dca699?tpI...  \n",
       "4   /practice/a174820de48147d489f64103af152709?tpI...  \n",
       "5   /practice/53e4c208b8cf497086ecd65ef45349bb?tpI...  \n",
       "6   /practice/74475ee28edb497c8aa4f8c370f08c30?tpI...  \n",
       "7   /practice/b698e67a2f5b450a824527e82ed7495d?tpI...  \n",
       "8   /practice/5b1116081ee549f882970eca84b4785a?tpI...  \n",
       "9   /practice/a5190a7c3ec045ce9273beebdfe029ee?tpI...  \n",
       "10  /practice/1183548cd48446b38da501e58d5944eb?tpI...  \n",
       "11  /practice/cd763d8541fc4243b8d3b967bb6d6b6a?tpI...  \n",
       "12  /practice/9d1559511b3849deaa71b576fa7009dc?tpI...  \n",
       "13  /practice/5ee8df898312465a95553d82ad8898c3?tpI...  \n",
       "14  /practice/839f681bf36c486fbcc5fcb977ffe432?tpI...  \n",
       "15  /practice/ca7b8af83e2f4ec1af2f23d6733223b5?tpI...  \n",
       "16  /practice/18ecd0ecf5ef4fe9ba3f17f8d00d2d66?tpI...  \n",
       "17  /practice/876e3c5fcfa5469f8376370d5de87c06?tpI...  \n",
       "18  /practice/5a0a2c7e431e4fbbbb1ff32ac6e8dfa0?tpI...  \n",
       "19  /practice/657d09e2b3704574814089ba8566d98d?tpI...  "
      ]
     },
     "execution_count": 35,
     "metadata": {},
     "output_type": "execute_result"
    }
   ],
   "source": [
    "urls = []\n",
    "for row in rows[1:]:\n",
    "    cols = row.find_all('td')\n",
    "    urls.append(row.a.attrs['href'])\n",
    "data['url'] = urls\n",
    "data"
   ]
  },
  {
   "cell_type": "code",
   "execution_count": 6,
   "metadata": {},
   "outputs": [],
   "source": [
    "data.to_json('data.json')"
   ]
  }
 ],
 "metadata": {
  "kernelspec": {
   "display_name": "Python 3",
   "language": "python",
   "name": "python3"
  },
  "language_info": {
   "codemirror_mode": {
    "name": "ipython",
    "version": 3
   },
   "file_extension": ".py",
   "mimetype": "text/x-python",
   "name": "python",
   "nbconvert_exporter": "python",
   "pygments_lexer": "ipython3",
   "version": "3.6.4"
  }
 },
 "nbformat": 4,
 "nbformat_minor": 2
}
